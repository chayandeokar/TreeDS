{
 "cells": [
  {
   "cell_type": "code",
   "execution_count": 1,
   "id": "a5add635",
   "metadata": {},
   "outputs": [],
   "source": [
    "class treenode:\n",
    "    def __init__(self , d):\n",
    "        self.data = d\n",
    "        self.leftchild = None\n",
    "        self.rightchild = None"
   ]
  },
  {
   "cell_type": "code",
   "execution_count": 6,
   "id": "6ff50d0b",
   "metadata": {},
   "outputs": [],
   "source": [
    "rootnode = treenode(\"Menu\")\n",
    "drink = treenode(\"Drink\")\n",
    "food = treenode(\"Food\")\n",
    "tea = treenode(\"Tea\")\n",
    "coffee = treenode(\"Coffee\")"
   ]
  },
  {
   "cell_type": "code",
   "execution_count": 10,
   "id": "52389af4",
   "metadata": {},
   "outputs": [
    {
     "name": "stdout",
     "output_type": "stream",
     "text": [
      "{'data': 'Menu', 'leftchild': <__main__.treenode object at 0x0000021149B8E3B0>, 'rightchild': <__main__.treenode object at 0x0000021149B8E350>}\n",
      "{'data': 'Drink', 'leftchild': <__main__.treenode object at 0x0000021149B8FE20>, 'rightchild': <__main__.treenode object at 0x0000021149B8FEB0>}\n",
      "{'data': 'Food', 'leftchild': None, 'rightchild': None}\n",
      "{'data': 'Tea', 'leftchild': None, 'rightchild': None}\n",
      "{'data': 'Food', 'leftchild': None, 'rightchild': None}\n"
     ]
    }
   ],
   "source": [
    "print(rootnode.__dict__)\n",
    "print(drink.__dict__)\n",
    "print(food.__dict__)\n",
    "print(tea.__dict__)\n",
    "print(food.__dict__)"
   ]
  },
  {
   "cell_type": "code",
   "execution_count": 8,
   "id": "10ea73b1",
   "metadata": {},
   "outputs": [],
   "source": [
    "rootnode.leftchild = drink\n",
    "rootnode.rightchild = food\n",
    "drink.leftchild = tea\n",
    "drink.rightchild = coffee"
   ]
  },
  {
   "cell_type": "code",
   "execution_count": 25,
   "id": "fd642915",
   "metadata": {},
   "outputs": [],
   "source": [
    " ## time completiy o(n)\n",
    "## Space completly o(h)\n",
    "    \n",
    "def preorder(rootnode):\n",
    "        if not rootnode: return\n",
    "        print(rootnode.data)\n",
    "        preorder(rootnode.leftchild) ##time 0(n/2)\n",
    "        preorder(rootnode.rightchild) ##time 0(n/2)\n",
    "        "
   ]
  },
  {
   "cell_type": "code",
   "execution_count": 26,
   "id": "c969c13f",
   "metadata": {},
   "outputs": [
    {
     "name": "stdout",
     "output_type": "stream",
     "text": [
      "Menu\n",
      "Drink\n",
      "Tea\n",
      "Coffee\n",
      "Food\n"
     ]
    }
   ],
   "source": [
    "preorder(rootnode)"
   ]
  },
  {
   "cell_type": "code",
   "execution_count": null,
   "id": "43f932ee",
   "metadata": {},
   "outputs": [],
   "source": [
    "class Solution:\n",
    "    def preorderTraversal(self, root: Optional[TreeNode]) -> List[int]:\n",
    "        def dfs(root, res):\n",
    "            if not root: return\n",
    "            res.append(root.val)\n",
    "            dfs(root.left, res)\n",
    "            dfs(root.right, res)\n",
    "            return res\n",
    "        if not root: return []\n",
    "        return dfs(root,[])"
   ]
  }
 ],
 "metadata": {
  "kernelspec": {
   "display_name": "Python 3 (ipykernel)",
   "language": "python",
   "name": "python3"
  },
  "language_info": {
   "codemirror_mode": {
    "name": "ipython",
    "version": 3
   },
   "file_extension": ".py",
   "mimetype": "text/x-python",
   "name": "python",
   "nbconvert_exporter": "python",
   "pygments_lexer": "ipython3",
   "version": "3.10.2"
  }
 },
 "nbformat": 4,
 "nbformat_minor": 5
}
