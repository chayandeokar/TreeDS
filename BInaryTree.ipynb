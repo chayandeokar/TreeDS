{
 "cells": [
  {
   "cell_type": "code",
   "execution_count": 37,
   "id": "da03e6ac",
   "metadata": {},
   "outputs": [],
   "source": [
    "class treenode:\n",
    "    def __init__(self , d):\n",
    "        self.data = d\n",
    "        self.leftchild = None\n",
    "        self.rightchild = None"
   ]
  },
  {
   "cell_type": "code",
   "execution_count": 51,
   "id": "0a48fdbc",
   "metadata": {},
   "outputs": [],
   "source": [
    "menu = treenode(\"Menu\")\n",
    "drink = treenode(\"Drink\")\n",
    "food = treenode(\"Food\")\n",
    "tea = treenode(\"Tea\")\n",
    "coffee = treenode(\"Coffee\")"
   ]
  },
  {
   "cell_type": "code",
   "execution_count": 55,
   "id": "9a8158e9",
   "metadata": {},
   "outputs": [
    {
     "name": "stdout",
     "output_type": "stream",
     "text": [
      "{'data': 'Menu', 'leftchild': <__main__.treenode object at 0x000001C28D653DF0>, 'rightchild': <__main__.treenode object at 0x000001C28D6520E0>}\n",
      "{'data': 'Drink', 'leftchild': <__main__.treenode object at 0x000001C28D651270>, 'rightchild': <__main__.treenode object at 0x000001C28D6C0400>}\n",
      "{'data': 'Food', 'leftchild': None, 'rightchild': None}\n",
      "{'data': 'Tea', 'leftchild': None, 'rightchild': None}\n",
      "{'data': 'Food', 'leftchild': None, 'rightchild': None}\n"
     ]
    }
   ],
   "source": [
    "print(menu.__dict__)\n",
    "print(drink.__dict__)\n",
    "print(food.__dict__)\n",
    "print(tea.__dict__)\n",
    "print(food.__dict__)"
   ]
  },
  {
   "cell_type": "code",
   "execution_count": 56,
   "id": "08841b45",
   "metadata": {},
   "outputs": [],
   "source": [
    "menu.leftchild = drink\n",
    "menu.rightchild = food\n",
    "drink.leftchild = tea\n",
    "drink.rightchild = coffee"
   ]
  },
  {
   "cell_type": "code",
   "execution_count": 58,
   "id": "5f851cdb",
   "metadata": {},
   "outputs": [
    {
     "data": {
      "text/plain": [
       "'Food'"
      ]
     },
     "execution_count": 58,
     "metadata": {},
     "output_type": "execute_result"
    }
   ],
   "source": [
    "drink.leftchild.data\n",
    "menu.rightchild.data"
   ]
  },
  {
   "cell_type": "code",
   "execution_count": null,
   "id": "551b6714",
   "metadata": {},
   "outputs": [],
   "source": []
  }
 ],
 "metadata": {
  "kernelspec": {
   "display_name": "Python 3 (ipykernel)",
   "language": "python",
   "name": "python3"
  },
  "language_info": {
   "codemirror_mode": {
    "name": "ipython",
    "version": 3
   },
   "file_extension": ".py",
   "mimetype": "text/x-python",
   "name": "python",
   "nbconvert_exporter": "python",
   "pygments_lexer": "ipython3",
   "version": "3.10.2"
  }
 },
 "nbformat": 4,
 "nbformat_minor": 5
}
