{
 "cells": [
  {
   "cell_type": "code",
   "execution_count": 1,
   "id": "ea95b9df",
   "metadata": {},
   "outputs": [],
   "source": [
    "class treenode:\n",
    "    def __init__(self , d):\n",
    "        self.data = d\n",
    "        self.leftchild = None\n",
    "        self.rightchild = None"
   ]
  },
  {
   "cell_type": "code",
   "execution_count": 2,
   "id": "09d7e87a",
   "metadata": {},
   "outputs": [],
   "source": [
    "rootnode = treenode(\"Menu\")\n",
    "drink = treenode(\"Drink\")\n",
    "food = treenode(\"Food\")\n",
    "tea = treenode(\"Tea\")\n",
    "coffee = treenode(\"Coffee\")"
   ]
  },
  {
   "cell_type": "code",
   "execution_count": 7,
   "id": "67483c18",
   "metadata": {},
   "outputs": [],
   "source": [
    "rootnode.leftchild = drink\n",
    "rootnode.rightchild = food\n",
    "drink.leftchild = tea\n",
    "drink.rightchild = coffee"
   ]
  },
  {
   "cell_type": "code",
   "execution_count": 8,
   "id": "151785f6",
   "metadata": {},
   "outputs": [
    {
     "name": "stdout",
     "output_type": "stream",
     "text": [
      "{'data': 'Menu', 'leftchild': <__main__.treenode object at 0x000001A818D39480>, 'rightchild': <__main__.treenode object at 0x000001A818D3A380>}\n",
      "{'data': 'Drink', 'leftchild': <__main__.treenode object at 0x000001A818D3BD30>, 'rightchild': <__main__.treenode object at 0x000001A818D3A440>}\n",
      "{'data': 'Food', 'leftchild': None, 'rightchild': None}\n",
      "{'data': 'Tea', 'leftchild': None, 'rightchild': None}\n",
      "{'data': 'Food', 'leftchild': None, 'rightchild': None}\n"
     ]
    }
   ],
   "source": [
    "print(rootnode.__dict__)\n",
    "print(drink.__dict__)\n",
    "print(food.__dict__)\n",
    "print(tea.__dict__)\n",
    "print(food.__dict__)"
   ]
  },
  {
   "cell_type": "code",
   "execution_count": 10,
   "id": "f692bd46",
   "metadata": {},
   "outputs": [],
   "source": [
    "def inordertraversal(rootnode):\n",
    "    \n",
    "    if not rootnode: return\n",
    "    \n",
    "    inordertraversal(rootnode.leftchild)\n",
    "    print(rootnode.data)\n",
    "    inordertraversal(rootnode.rightchild)"
   ]
  },
  {
   "cell_type": "code",
   "execution_count": 11,
   "id": "1a0a6af0",
   "metadata": {},
   "outputs": [
    {
     "name": "stdout",
     "output_type": "stream",
     "text": [
      "Tea\n",
      "Drink\n",
      "Coffee\n",
      "Menu\n",
      "Food\n"
     ]
    }
   ],
   "source": [
    "inordertraversal(rootnode)"
   ]
  },
  {
   "cell_type": "code",
   "execution_count": 16,
   "id": "d06f5ebf",
   "metadata": {},
   "outputs": [],
   "source": [
    "def postordertraversal(rootnode):\n",
    "    \n",
    "    if not rootnode: return\n",
    "    print(rootnode.data)\n",
    "    postordertraversal(rootnode.rightchild)\n",
    "    postordertraversal(rootnode.leftchild)\n",
    "    "
   ]
  },
  {
   "cell_type": "code",
   "execution_count": 17,
   "id": "10e3d62f",
   "metadata": {},
   "outputs": [
    {
     "name": "stdout",
     "output_type": "stream",
     "text": [
      "Menu\n",
      "Food\n",
      "Drink\n",
      "Coffee\n",
      "Tea\n"
     ]
    }
   ],
   "source": [
    "postordertraversal(rootnode)"
   ]
  },
  {
   "cell_type": "code",
   "execution_count": null,
   "id": "59383222",
   "metadata": {},
   "outputs": [],
   "source": []
  }
 ],
 "metadata": {
  "kernelspec": {
   "display_name": "Python 3 (ipykernel)",
   "language": "python",
   "name": "python3"
  },
  "language_info": {
   "codemirror_mode": {
    "name": "ipython",
    "version": 3
   },
   "file_extension": ".py",
   "mimetype": "text/x-python",
   "name": "python",
   "nbconvert_exporter": "python",
   "pygments_lexer": "ipython3",
   "version": "3.10.2"
  }
 },
 "nbformat": 4,
 "nbformat_minor": 5
}
