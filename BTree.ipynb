{
 "cells": [
  {
   "cell_type": "code",
   "execution_count": 119,
   "id": "3d7df3b8",
   "metadata": {},
   "outputs": [],
   "source": [
    "  class BTreeNode:\n",
    "        def __init__(self , s):\n",
    "            self.childsize = s\n",
    "            self.pointer = [None] * M\n",
    "            self.keys = []\n",
    "            \n",
    "            \n",
    "            "
   ]
  },
  {
   "cell_type": "code",
   "execution_count": 83,
   "id": "5d0bf110",
   "metadata": {},
   "outputs": [],
   "source": [
    "rootNode = BTreeNode(4)"
   ]
  },
  {
   "cell_type": "code",
   "execution_count": 84,
   "id": "c4c2fe0c",
   "metadata": {},
   "outputs": [
    {
     "data": {
      "text/plain": [
       "{'childsize': 4, 'pointer': [], 'keys': []}"
      ]
     },
     "execution_count": 84,
     "metadata": {},
     "output_type": "execute_result"
    }
   ],
   "source": [
    "rootNode.__dict__"
   ]
  },
  {
   "cell_type": "code",
   "execution_count": 85,
   "id": "022a363f",
   "metadata": {},
   "outputs": [],
   "source": [
    "def insertdata(node , data):\n",
    "    if (rootNode.childsize - 1) != len(rootNode.keys):\n",
    "        node.keys.append(data)\n",
    "    \n",
    "        "
   ]
  },
  {
   "cell_type": "code",
   "execution_count": 87,
   "id": "4b611f72",
   "metadata": {},
   "outputs": [],
   "source": [
    "insertdata(rootNode , 40)\n",
    "insertdata(rootNode , 20)\n",
    "insertdata(rootNode ,50)\n",
    "insertdata(rootNode , 70)"
   ]
  },
  {
   "cell_type": "code",
   "execution_count": 88,
   "id": "098e91e5",
   "metadata": {},
   "outputs": [
    {
     "data": {
      "text/plain": [
       "{'childsize': 4, 'pointer': [], 'keys': [40, 20, 50]}"
      ]
     },
     "execution_count": 88,
     "metadata": {},
     "output_type": "execute_result"
    }
   ],
   "source": [
    "rootNode.__dict__"
   ]
  },
  {
   "cell_type": "code",
   "execution_count": 89,
   "id": "53191aa6",
   "metadata": {},
   "outputs": [],
   "source": [
    "left = rootNode.keys[0:2] \n",
    "parent = rootNode.keys[2]\n",
    "right = 70"
   ]
  },
  {
   "cell_type": "code",
   "execution_count": 103,
   "id": "68b39f29",
   "metadata": {},
   "outputs": [
    {
     "data": {
      "text/plain": [
       "50"
      ]
     },
     "execution_count": 103,
     "metadata": {},
     "output_type": "execute_result"
    }
   ],
   "source": [
    "parent"
   ]
  },
  {
   "cell_type": "code",
   "execution_count": 104,
   "id": "ad302560",
   "metadata": {},
   "outputs": [
    {
     "data": {
      "text/plain": [
       "70"
      ]
     },
     "execution_count": 104,
     "metadata": {},
     "output_type": "execute_result"
    }
   ],
   "source": [
    "right"
   ]
  },
  {
   "cell_type": "code",
   "execution_count": 105,
   "id": "3ca5a8ab",
   "metadata": {},
   "outputs": [],
   "source": [
    "rootNode.keys[-1] = None"
   ]
  },
  {
   "cell_type": "code",
   "execution_count": 106,
   "id": "58d010f8",
   "metadata": {},
   "outputs": [
    {
     "data": {
      "text/plain": [
       "[40, 20, None]"
      ]
     },
     "execution_count": 106,
     "metadata": {},
     "output_type": "execute_result"
    }
   ],
   "source": [
    "rootNode.keys"
   ]
  },
  {
   "cell_type": "code",
   "execution_count": 107,
   "id": "3045bbd6",
   "metadata": {},
   "outputs": [],
   "source": [
    "a = rootNode"
   ]
  },
  {
   "cell_type": "code",
   "execution_count": 108,
   "id": "f5af2bfa",
   "metadata": {},
   "outputs": [
    {
     "data": {
      "text/plain": [
       "[40, 20, None]"
      ]
     },
     "execution_count": 108,
     "metadata": {},
     "output_type": "execute_result"
    }
   ],
   "source": [
    "a.keys"
   ]
  },
  {
   "cell_type": "code",
   "execution_count": 109,
   "id": "fa7a52f1",
   "metadata": {},
   "outputs": [],
   "source": [
    "b = BTreeNode(4)"
   ]
  },
  {
   "cell_type": "code",
   "execution_count": 110,
   "id": "2b30e9a9",
   "metadata": {},
   "outputs": [
    {
     "data": {
      "text/plain": [
       "[]"
      ]
     },
     "execution_count": 110,
     "metadata": {},
     "output_type": "execute_result"
    }
   ],
   "source": [
    "b.keys"
   ]
  },
  {
   "cell_type": "code",
   "execution_count": 111,
   "id": "eefe5717",
   "metadata": {},
   "outputs": [],
   "source": [
    "insertdata(b,40)"
   ]
  },
  {
   "cell_type": "code",
   "execution_count": 112,
   "id": "5ddd8f1f",
   "metadata": {},
   "outputs": [],
   "source": [
    " p = BTreeNode(4)"
   ]
  },
  {
   "cell_type": "code",
   "execution_count": 113,
   "id": "8e1a055c",
   "metadata": {},
   "outputs": [
    {
     "data": {
      "text/plain": [
       "[]"
      ]
     },
     "execution_count": 113,
     "metadata": {},
     "output_type": "execute_result"
    }
   ],
   "source": [
    "p.keys"
   ]
  },
  {
   "cell_type": "code",
   "execution_count": 114,
   "id": "78fbc0de",
   "metadata": {},
   "outputs": [],
   "source": [
    "insertdata(p , parent)"
   ]
  },
  {
   "cell_type": "code",
   "execution_count": 115,
   "id": "c959c7c4",
   "metadata": {},
   "outputs": [
    {
     "data": {
      "text/plain": [
       "[]"
      ]
     },
     "execution_count": 115,
     "metadata": {},
     "output_type": "execute_result"
    }
   ],
   "source": [
    "p.keys"
   ]
  },
  {
   "cell_type": "code",
   "execution_count": 121,
   "id": "3b86f85e",
   "metadata": {},
   "outputs": [
    {
     "data": {
      "text/plain": [
       "{'childsize': 4,\n",
       " 'pointer': [<__main__.BTreeNode at 0x1a70e9bd690>,\n",
       "  <__main__.BTreeNode at 0x1a70e9bd690>],\n",
       " 'keys': []}"
      ]
     },
     "execution_count": 121,
     "metadata": {},
     "output_type": "execute_result"
    }
   ],
   "source": [
    "p.__dict__"
   ]
  },
  {
   "cell_type": "code",
   "execution_count": 122,
   "id": "5448400c",
   "metadata": {},
   "outputs": [
    {
     "ename": "IndexError",
     "evalue": "list index out of range",
     "output_type": "error",
     "traceback": [
      "\u001b[1;31m---------------------------------------------------------------------------\u001b[0m",
      "\u001b[1;31mIndexError\u001b[0m                                Traceback (most recent call last)",
      "Input \u001b[1;32mIn [122]\u001b[0m, in \u001b[0;36m<cell line: 1>\u001b[1;34m()\u001b[0m\n\u001b[1;32m----> 1\u001b[0m \u001b[38;5;28;01mif\u001b[39;00m a\u001b[38;5;241m.\u001b[39mkeys[\u001b[38;5;241m0\u001b[39m] \u001b[38;5;241m<\u001b[39m \u001b[43mp\u001b[49m\u001b[38;5;241;43m.\u001b[39;49m\u001b[43mkeys\u001b[49m\u001b[43m[\u001b[49m\u001b[38;5;241;43m0\u001b[39;49m\u001b[43m]\u001b[49m:\n\u001b[0;32m      2\u001b[0m     p\u001b[38;5;241m.\u001b[39mpointer[\u001b[38;5;241m0\u001b[39m] \u001b[38;5;241m=\u001b[39m a\n\u001b[0;32m      3\u001b[0m \u001b[38;5;28;01melif\u001b[39;00m p\u001b[38;5;241m.\u001b[39mkeys[\u001b[38;5;241m0\u001b[39m] \u001b[38;5;241m<\u001b[39m a\u001b[38;5;241m.\u001b[39mkeys[\u001b[38;5;241m0\u001b[39m]:\n",
      "\u001b[1;31mIndexError\u001b[0m: list index out of range"
     ]
    }
   ],
   "source": [
    "if a.keys[0] < p.keys[0]:\n",
    "    p.pointer[0] = a\n",
    "elif p.keys[0] < a.keys[0]:\n",
    "    p.pointer[1] = a"
   ]
  },
  {
   "cell_type": "code",
   "execution_count": null,
   "id": "d5a35928",
   "metadata": {},
   "outputs": [],
   "source": []
  }
 ],
 "metadata": {
  "kernelspec": {
   "display_name": "Python 3 (ipykernel)",
   "language": "python",
   "name": "python3"
  },
  "language_info": {
   "codemirror_mode": {
    "name": "ipython",
    "version": 3
   },
   "file_extension": ".py",
   "mimetype": "text/x-python",
   "name": "python",
   "nbconvert_exporter": "python",
   "pygments_lexer": "ipython3",
   "version": "3.10.2"
  }
 },
 "nbformat": 4,
 "nbformat_minor": 5
}
