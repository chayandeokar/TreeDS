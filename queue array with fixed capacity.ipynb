{
 "cells": [
  {
   "cell_type": "code",
   "execution_count": 20,
   "id": "944743b5",
   "metadata": {},
   "outputs": [],
   "source": [
    " class queue:\n",
    "        # time: 0(1)\n",
    "        def __init__(self , qlen):\n",
    "            self.maxSize = qlen\n",
    "            self.items = [None] * self.maxSize\n",
    "            self.start = -1\n",
    "            self.end = -1\n",
    "            \n",
    "        def isempty(self):\n",
    "            if self.start == -1:\n",
    "                return True\n",
    "            else:\n",
    "                return False\n",
    "\n",
    "        def isfull(self):\n",
    "            if self.start == 0 and self.end == self.maxSize - 1 :\n",
    "                return True\n",
    "            elif self.end == self.start - 1:\n",
    "                return True\n",
    "            else:\n",
    "                return False \n",
    "                \n",
    "        \n",
    "        def enqueue(self):\n",
    "            if self. isfull() == False:\n",
    "                print(\"add items\")\n",
    "                self.end = self.end + 1\n",
    "                items[self.end] = value\n",
    "            else:\n",
    "                print(\"sorry space left ...\")\n",
    "            "
   ]
  },
  {
   "cell_type": "code",
   "execution_count": 21,
   "id": "78a6ac35",
   "metadata": {},
   "outputs": [],
   "source": [
    "counter = queue(20)"
   ]
  },
  {
   "cell_type": "code",
   "execution_count": 22,
   "id": "8deaa46d",
   "metadata": {},
   "outputs": [
    {
     "data": {
      "text/plain": [
       "20"
      ]
     },
     "execution_count": 22,
     "metadata": {},
     "output_type": "execute_result"
    }
   ],
   "source": [
    "counter.maxSize"
   ]
  },
  {
   "cell_type": "code",
   "execution_count": 23,
   "id": "7a200e4c",
   "metadata": {},
   "outputs": [
    {
     "data": {
      "text/plain": [
       "True"
      ]
     },
     "execution_count": 23,
     "metadata": {},
     "output_type": "execute_result"
    }
   ],
   "source": [
    "counter.isempty()"
   ]
  },
  {
   "cell_type": "code",
   "execution_count": 24,
   "id": "9f60a102",
   "metadata": {},
   "outputs": [
    {
     "data": {
      "text/plain": [
       "False"
      ]
     },
     "execution_count": 24,
     "metadata": {},
     "output_type": "execute_result"
    }
   ],
   "source": [
    "counter.isfull()"
   ]
  },
  {
   "cell_type": "code",
   "execution_count": 25,
   "id": "230a6e19",
   "metadata": {},
   "outputs": [
    {
     "name": "stdout",
     "output_type": "stream",
     "text": [
      "add items\n"
     ]
    }
   ],
   "source": [
    " counter.enqueue()"
   ]
  },
  {
   "cell_type": "code",
   "execution_count": null,
   "id": "36d71ace",
   "metadata": {},
   "outputs": [],
   "source": []
  }
 ],
 "metadata": {
  "kernelspec": {
   "display_name": "Python 3 (ipykernel)",
   "language": "python",
   "name": "python3"
  },
  "language_info": {
   "codemirror_mode": {
    "name": "ipython",
    "version": 3
   },
   "file_extension": ".py",
   "mimetype": "text/x-python",
   "name": "python",
   "nbconvert_exporter": "python",
   "pygments_lexer": "ipython3",
   "version": "3.10.2"
  }
 },
 "nbformat": 4,
 "nbformat_minor": 5
}
