{
 "cells": [
  {
   "cell_type": "code",
   "execution_count": 1,
   "id": "587df9db",
   "metadata": {},
   "outputs": [],
   "source": [
    "# Queue #FIFO(first in first out)"
   ]
  },
  {
   "cell_type": "code",
   "execution_count": 2,
   "id": "160b7476",
   "metadata": {},
   "outputs": [],
   "source": [
    "d = [] ## no fixed capacity impleted through array"
   ]
  },
  {
   "cell_type": "code",
   "execution_count": 9,
   "id": "6aa194e3",
   "metadata": {},
   "outputs": [],
   "source": [
    "d.append(\"a\") # adding data in list (enqueue)\n",
    "d.append(\"b\")\n",
    "d.append(\"c\")\n",
    "d.append(\"d\")"
   ]
  },
  {
   "cell_type": "code",
   "execution_count": 10,
   "id": "20226271",
   "metadata": {},
   "outputs": [
    {
     "data": {
      "text/plain": [
       "['a', 'b', 'b', 'c', 'd', 'a', 'b', 'c', 'd']"
      ]
     },
     "execution_count": 10,
     "metadata": {},
     "output_type": "execute_result"
    }
   ],
   "source": [
    "d"
   ]
  },
  {
   "cell_type": "code",
   "execution_count": 11,
   "id": "95ed973b",
   "metadata": {},
   "outputs": [
    {
     "data": {
      "text/plain": [
       "'a'"
      ]
     },
     "execution_count": 11,
     "metadata": {},
     "output_type": "execute_result"
    }
   ],
   "source": [
    "d[0] # peek operation to check the data on index only to check"
   ]
  },
  {
   "cell_type": "code",
   "execution_count": 16,
   "id": "1bcb38da",
   "metadata": {},
   "outputs": [
    {
     "data": {
      "text/plain": [
       "'b'"
      ]
     },
     "execution_count": 16,
     "metadata": {},
     "output_type": "execute_result"
    }
   ],
   "source": [
    "d.pop(0) # remove the data from the list ( dequeue )"
   ]
  },
  {
   "cell_type": "code",
   "execution_count": 17,
   "id": "4e23d11f",
   "metadata": {},
   "outputs": [
    {
     "data": {
      "text/plain": [
       "['c', 'd', 'a', 'b', 'c', 'd']"
      ]
     },
     "execution_count": 17,
     "metadata": {},
     "output_type": "execute_result"
    }
   ],
   "source": [
    "d"
   ]
  },
  {
   "cell_type": "code",
   "execution_count": null,
   "id": "e6542b43",
   "metadata": {},
   "outputs": [],
   "source": []
  },
  {
   "cell_type": "code",
   "execution_count": 75,
   "id": "1bb58769",
   "metadata": {},
   "outputs": [],
   "source": [
    "class myqueue:\n",
    "    def __init__(self):\n",
    "        self.names = []\n",
    "        \n",
    "    def isEmpty(self): ##Checking if its empty\n",
    "        if self.names == []:\n",
    "            return True\n",
    "        else:\n",
    "            return False\n",
    "    \n",
    "    # append :0(n)\n",
    "    def enqueue(self,data): ## Add the data\n",
    "        self.names.append(data)\n",
    "        \n",
    "    def dequeue(self): ## Pop the data\n",
    "        if self.isEmpty():\n",
    "            return \"i am empty...\"\n",
    "        else:\n",
    "            return self.names.pop(0)\n",
    "        \n",
    "    def peek(self): ##  peek operation to check the data on index only to check \n",
    "         if self.isEmpty():\n",
    "            return \"i am empty...\"\n",
    "        else:\n",
    "            return self.names[0]"
   ]
  },
  {
   "cell_type": "code",
   "execution_count": 76,
   "id": "a0bc51cc",
   "metadata": {},
   "outputs": [],
   "source": [
    "movie = myqueue()"
   ]
  },
  {
   "cell_type": "code",
   "execution_count": 61,
   "id": "08b99562",
   "metadata": {},
   "outputs": [],
   "source": [
    "movie.enqueue(\"tom\")\n",
    "movie.enqueue(\"jack\")\n",
    "movie.enqueue(\"chayan\")"
   ]
  },
  {
   "cell_type": "code",
   "execution_count": 62,
   "id": "762f252c",
   "metadata": {},
   "outputs": [
    {
     "data": {
      "text/plain": [
       "['tom', 'jack', 'chayan']"
      ]
     },
     "execution_count": 62,
     "metadata": {},
     "output_type": "execute_result"
    }
   ],
   "source": [
    "movie.names"
   ]
  },
  {
   "cell_type": "code",
   "execution_count": 77,
   "id": "04c6619f",
   "metadata": {},
   "outputs": [
    {
     "data": {
      "text/plain": [
       "'i am empty...'"
      ]
     },
     "execution_count": 77,
     "metadata": {},
     "output_type": "execute_result"
    }
   ],
   "source": [
    "movie.dequeue()"
   ]
  },
  {
   "cell_type": "code",
   "execution_count": 78,
   "id": "b295a5b4",
   "metadata": {},
   "outputs": [
    {
     "data": {
      "text/plain": [
       "[]"
      ]
     },
     "execution_count": 78,
     "metadata": {},
     "output_type": "execute_result"
    }
   ],
   "source": [
    "movie.names"
   ]
  },
  {
   "cell_type": "code",
   "execution_count": 79,
   "id": "9624c461",
   "metadata": {},
   "outputs": [
    {
     "data": {
      "text/plain": [
       "True"
      ]
     },
     "execution_count": 79,
     "metadata": {},
     "output_type": "execute_result"
    }
   ],
   "source": [
    "movie.isEmpty()"
   ]
  },
  {
   "cell_type": "code",
   "execution_count": null,
   "id": "53485b8f",
   "metadata": {},
   "outputs": [],
   "source": []
  }
 ],
 "metadata": {
  "kernelspec": {
   "display_name": "Python 3 (ipykernel)",
   "language": "python",
   "name": "python3"
  },
  "language_info": {
   "codemirror_mode": {
    "name": "ipython",
    "version": 3
   },
   "file_extension": ".py",
   "mimetype": "text/x-python",
   "name": "python",
   "nbconvert_exporter": "python",
   "pygments_lexer": "ipython3",
   "version": "3.10.2"
  }
 },
 "nbformat": 4,
 "nbformat_minor": 5
}
